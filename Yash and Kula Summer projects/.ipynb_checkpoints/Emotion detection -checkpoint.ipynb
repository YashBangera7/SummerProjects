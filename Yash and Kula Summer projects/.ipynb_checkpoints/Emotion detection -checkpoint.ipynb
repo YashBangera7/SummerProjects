{
 "cells": [
  {
   "cell_type": "code",
   "execution_count": 1,
   "metadata": {},
   "outputs": [],
   "source": [
    "import tensorflow as tf\n",
    "from PIL import Image as ig\n",
    "import os\n",
    "from keras.models import Sequential\n",
    "from keras.layers import Dense, Dropout, Conv2D, MaxPool2D, Flatten\n",
    "from keras.utils import np_utils\n",
    "import numpy as np"
   ]
  },
  {
   "cell_type": "code",
   "execution_count": 2,
   "metadata": {},
   "outputs": [
    {
     "name": "stdout",
     "output_type": "stream",
     "text": [
      "opencv_frame_0.png written!\n",
      "opencv_frame_1.png written!\n",
      "Escape hit, closing...\n"
     ]
    }
   ],
   "source": [
    "# ADDED Webcam accesss to capture pictures\n",
    "import cv2\n",
    "\n",
    "cam = cv2.VideoCapture(0)\n",
    "\n",
    "cv2.namedWindow(\"test\")\n",
    "\n",
    "img_counter = 0\n",
    "\n",
    "while True:\n",
    "    ret, frame = cam.read()\n",
    "    if not ret:\n",
    "        print(\"failed to grab frame\")\n",
    "        break\n",
    "    cv2.imshow(\"test\", frame)\n",
    "\n",
    "    k = cv2.waitKey(1)\n",
    "    if k%256 == 27:\n",
    "        # ESC pressed\n",
    "        print(\"Escape hit, closing...\")\n",
    "        break\n",
    "    elif k%256 == 32:\n",
    "        # SPACE pressed\n",
    "        img_name = \"opencv_frame_{}.png\".format(img_counter)\n",
    "        cv2.imwrite(img_name, frame)\n",
    "        print(\"{} written!\".format(img_name))\n",
    "        img_counter += 1\n",
    "\n",
    "cam.release()\n",
    "cv2.destroyWindow(\"test\")\n",
    "cv2.waitKey(1)\n",
    "\n",
    "import glob\n",
    "\n",
    "array = glob.glob('opencv_frame_?.png')\n",
    "from PIL import Image as ig\n",
    "import cv2\n",
    "for i in range(len(array)):\n",
    "    image = cv2.imread(array[i])\n",
    "    current_value = array[i].split('_')[-1].split('.')[0]\n",
    "    gray_img = cv2.cvtColor(image, cv2.COLOR_BGR2GRAY)\n",
    "\n",
    "    cv2.imwrite('bag kula.png', gray_img)\n",
    "\n",
    "    kula1=ig.open('./bag kula.png')\n",
    "    bgkula=kula1.resize((48,48))\n",
    "\n",
    "    bgkula.save('opencv_frame_{}_actual.png'.format(current_value))\n",
    "    "
   ]
  },
  {
   "cell_type": "code",
   "execution_count": 4,
   "metadata": {},
   "outputs": [
    {
     "name": "stdout",
     "output_type": "stream",
     "text": [
      "['happy', 'sad', 'fearful', 'neutral', 'angry', 'disgusted', 'surprised']\n",
      "7\n"
     ]
    }
   ],
   "source": [
    "# Path files for the dataset\n",
    "path = os.listdir('emotion detection dataset')\n",
    "path_test = 'emotion detection dataset' + '/' + path[1]\n",
    "path_train = 'emotion detection dataset' + '/' + path[2]\n",
    "classes = os.listdir(path_test)\n",
    "classes.remove(\".DS_Store\")\n",
    "print(classes)\n",
    "n_classes = len(classes)\n",
    "print(n_classes)"
   ]
  },
  {
   "cell_type": "code",
   "execution_count": 5,
   "metadata": {},
   "outputs": [],
   "source": [
    "X_test = []\n",
    "y_test = []\n",
    "X_train = []\n",
    "y_train = []\n",
    "\n",
    "for i in range(n_classes):\n",
    "    temp_path = path_train + '/' + classes[i]\n",
    "    current_image_path = os.listdir(temp_path)\n",
    "    for j in range(len(current_image_path)):\n",
    "        if current_image_path[j]=='.DS_Store':\n",
    "            pass\n",
    "        else:\n",
    "            current_image = np.array(ig.open(temp_path + '/' + current_image_path[j]).getdata())\n",
    "            X_train.append(current_image)\n",
    "            y_train.append(classes[i])"
   ]
  },
  {
   "cell_type": "code",
   "execution_count": 6,
   "metadata": {},
   "outputs": [],
   "source": [
    "for i in range(n_classes):\n",
    "    temp_path = path_test + '/' + classes[i]\n",
    "    current_image_path = os.listdir(temp_path)\n",
    "    for j in range(len(current_image_path)):\n",
    "        if current_image_path[j]=='.DS_Store':\n",
    "            pass\n",
    "        else:\n",
    "            current_image = np.array(ig.open(temp_path + '/' + current_image_path[j]).getdata())\n",
    "            X_test.append(current_image)\n",
    "            y_test.append(classes[i])"
   ]
  },
  {
   "cell_type": "code",
   "execution_count": 7,
   "metadata": {},
   "outputs": [
    {
     "name": "stdout",
     "output_type": "stream",
     "text": [
      "7178\n",
      "7178\n",
      "28709\n",
      "28709\n"
     ]
    }
   ],
   "source": [
    "print(len(X_test))\n",
    "print(len(y_test))\n",
    "print(len(X_train))\n",
    "print(len(y_train))"
   ]
  },
  {
   "cell_type": "code",
   "execution_count": 8,
   "metadata": {},
   "outputs": [],
   "source": [
    "y_train_new = []\n",
    "for i in range(len(y_train)):\n",
    "    if (y_train[i]=='happy'):\n",
    "        y_train_new.append(0)\n",
    "    elif (y_train[i]=='sad'):\n",
    "        y_train_new.append(1)\n",
    "    elif (y_train[i]=='fearful'):\n",
    "        y_train_new.append(2)\n",
    "    elif (y_train[i]=='neutral'):\n",
    "        y_train_new.append(3)\n",
    "    elif (y_train[i]=='angry'):\n",
    "        y_train_new.append(4)\n",
    "    elif (y_train[i]=='disgusted'):\n",
    "        y_train_new.append(5)\n",
    "    elif (y_train[i]=='surprised'):\n",
    "        y_train_new.append(6)"
   ]
  },
  {
   "cell_type": "code",
   "execution_count": 9,
   "metadata": {},
   "outputs": [],
   "source": [
    "y_test_new = []\n",
    "for i in range(len(y_test)):\n",
    "    if (y_test[i]=='happy'):\n",
    "        y_test_new.append(0)\n",
    "    elif (y_test[i]=='sad'):\n",
    "        y_test_new.append(1)\n",
    "    elif (y_test[i]=='fearful'):\n",
    "        y_test_new.append(2)\n",
    "    elif (y_test[i]=='neutral'):\n",
    "        y_test_new.append(3)\n",
    "    elif (y_test[i]=='angry'):\n",
    "        y_test_new.append(4)\n",
    "    elif (y_test[i]=='disgusted'):\n",
    "        y_test_new.append(5)\n",
    "    elif (y_test[i]=='surprised'):\n",
    "        y_test_new.append(6)"
   ]
  },
  {
   "cell_type": "code",
   "execution_count": 10,
   "metadata": {},
   "outputs": [
    {
     "name": "stdout",
     "output_type": "stream",
     "text": [
      "Shape after one-hot encoding:  (28709, 7)\n"
     ]
    }
   ],
   "source": [
    "Y_train = np_utils.to_categorical(y_train_new, n_classes)\n",
    "Y_test = np_utils.to_categorical(y_test_new, n_classes)\n",
    "print(\"Shape after one-hot encoding: \", Y_train.shape)"
   ]
  },
  {
   "cell_type": "code",
   "execution_count": 11,
   "metadata": {},
   "outputs": [],
   "source": [
    "X_train = np.array(X_train)/255\n",
    "\n",
    "X_test = np.array(X_test)/255\n",
    "\n",
    "# building the input vector from the 48x48 pixels\n",
    "X_train = X_train.reshape(X_train.shape[0], 48, 48, 1)\n",
    "X_test = X_test.reshape(X_test.shape[0], 48, 48, 1)\n",
    "X_train = X_train.astype('float32')\n",
    "X_test = X_test.astype('float32')"
   ]
  },
  {
   "cell_type": "code",
   "execution_count": 22,
   "metadata": {},
   "outputs": [
    {
     "name": "stdout",
     "output_type": "stream",
     "text": [
      "Epoch 1/5\n",
      "225/225 [==============================] - 213s 945ms/step - loss: 1.7868 - accuracy: 0.2626 - val_loss: 1.6637 - val_accuracy: 0.3546\n",
      "Epoch 2/5\n",
      "225/225 [==============================] - 253s 1s/step - loss: 1.5478 - accuracy: 0.3985 - val_loss: 1.3645 - val_accuracy: 0.4766\n",
      "Epoch 3/5\n",
      "225/225 [==============================] - 234s 1s/step - loss: 1.3637 - accuracy: 0.4770 - val_loss: 1.2721 - val_accuracy: 0.5039\n",
      "Epoch 4/5\n",
      "225/225 [==============================] - 239s 1s/step - loss: 1.2616 - accuracy: 0.5185 - val_loss: 1.2077 - val_accuracy: 0.5320\n",
      "Epoch 5/5\n",
      "225/225 [==============================] - 227s 1s/step - loss: 1.1774 - accuracy: 0.5575 - val_loss: 1.1795 - val_accuracy: 0.5447\n"
     ]
    },
    {
     "data": {
      "text/plain": [
       "<tensorflow.python.keras.callbacks.History at 0x7fb3a763ae50>"
      ]
     },
     "execution_count": 22,
     "metadata": {},
     "output_type": "execute_result"
    }
   ],
   "source": [
    "# ADDED MORE CONVOLUTION LAYER\n",
    "# building a linear stack of layers with the sequential model\n",
    "model = Sequential()\n",
    "\n",
    "# convolutional layer\n",
    "model.add(Conv2D(50, kernel_size=(3,3), strides=(1,1), padding='same', activation='relu', input_shape=(48,48,1)))\n",
    "\n",
    "# convolutional layer\n",
    "model.add(Conv2D(75, kernel_size=(3,3), strides=(1,1), padding='same', activation='relu'))\n",
    "model.add(MaxPool2D(pool_size=(2,2)))\n",
    "model.add(Dropout(0.25))\n",
    "\n",
    "model.add(Conv2D(125, kernel_size=(3,3), strides=(1,1), padding='same', activation='relu'))\n",
    "model.add(MaxPool2D(pool_size=(2,2)))\n",
    "model.add(Dropout(0.25))\n",
    "\n",
    "# flatten output of conv\n",
    "model.add(Flatten())\n",
    "\n",
    "# hidden layer\n",
    "model.add(Dense(500, activation='relu'))\n",
    "model.add(Dropout(0.4))\n",
    "model.add(Dense(250, activation='relu'))\n",
    "model.add(Dropout(0.3))\n",
    "# output layer\n",
    "model.add(Dense(7, activation='softmax'))\n",
    "\n",
    "# compiling the sequential model\n",
    "model.compile(loss='categorical_crossentropy', metrics=['accuracy'], optimizer='adam')\n",
    "\n",
    "# training the model for 10 epochs\n",
    "model.fit(X_train, Y_train, batch_size=128, epochs=5, validation_data=(X_test, Y_test))"
   ]
  },
  {
   "cell_type": "code",
   "execution_count": 36,
   "metadata": {},
   "outputs": [
    {
     "data": {
      "text/plain": [
       "['opencv_frame_1_actual.png', 'opencv_frame_0_actual.png']"
      ]
     },
     "execution_count": 36,
     "metadata": {},
     "output_type": "execute_result"
    }
   ],
   "source": [
    "# Extracting the images from the webcam\n",
    "array_str = glob.glob('opencv_frame_?_actual.png')\n",
    "array_str"
   ]
  },
  {
   "cell_type": "code",
   "execution_count": 37,
   "metadata": {},
   "outputs": [],
   "source": [
    "img1_array = []\n",
    "for i in range(len(array_str)):\n",
    "    img1_array.append(np.array(ig.open(array_str[i])))"
   ]
  },
  {
   "cell_type": "code",
   "execution_count": 38,
   "metadata": {},
   "outputs": [],
   "source": [
    "def prediction(array):\n",
    "    prediction = []\n",
    "    for i in range(len(array)):\n",
    "        if (np.argmax(array[i])==0):\n",
    "            prediction.append('happy')\n",
    "        elif (np.argmax(array[i])==1):\n",
    "            prediction.append('sad')\n",
    "        elif (np.argmax(array[i])==2):\n",
    "            prediction.append('fearful')\n",
    "        elif (np.argmax(array[i])==3):\n",
    "            prediction.append('neutral')\n",
    "        elif (np.argmax(array[i])==4):\n",
    "            prediction.append('angry')\n",
    "        elif (np.argmax(array[i])==5):\n",
    "            prediction.append('disgusted')\n",
    "        elif (np.argmax(array[i])==6):\n",
    "            prediction.append('surprised')\n",
    "    return prediction"
   ]
  },
  {
   "cell_type": "code",
   "execution_count": 39,
   "metadata": {},
   "outputs": [],
   "source": [
    "array_str = np.array(img1_array).reshape(np.array(img1_array).shape[0],48,48,1)"
   ]
  },
  {
   "cell_type": "code",
   "execution_count": 40,
   "metadata": {},
   "outputs": [
    {
     "name": "stdout",
     "output_type": "stream",
     "text": [
      "[[0.0000000e+00 1.0000000e+00 6.5181414e-35 0.0000000e+00 1.7608365e-21\n",
      "  0.0000000e+00 0.0000000e+00]\n",
      " [0.0000000e+00 9.7276790e-29 1.0000000e+00 0.0000000e+00 3.3849375e-34\n",
      "  0.0000000e+00 0.0000000e+00]]\n"
     ]
    }
   ],
   "source": [
    "array = model.predict(array_str)\n",
    "print(array)"
   ]
  },
  {
   "cell_type": "code",
   "execution_count": 41,
   "metadata": {},
   "outputs": [],
   "source": [
    "predictions = prediction(array)"
   ]
  },
  {
   "cell_type": "code",
   "execution_count": 42,
   "metadata": {},
   "outputs": [
    {
     "data": {
      "text/plain": [
       "['sad', 'fearful']"
      ]
     },
     "execution_count": 42,
     "metadata": {},
     "output_type": "execute_result"
    }
   ],
   "source": [
    "predictions"
   ]
  },
  {
   "cell_type": "code",
   "execution_count": null,
   "metadata": {},
   "outputs": [],
   "source": []
  }
 ],
 "metadata": {
  "kernelspec": {
   "display_name": "Python 3",
   "language": "python",
   "name": "python3"
  },
  "language_info": {
   "codemirror_mode": {
    "name": "ipython",
    "version": 3
   },
   "file_extension": ".py",
   "mimetype": "text/x-python",
   "name": "python",
   "nbconvert_exporter": "python",
   "pygments_lexer": "ipython3",
   "version": "3.7.6"
  }
 },
 "nbformat": 4,
 "nbformat_minor": 4
}
